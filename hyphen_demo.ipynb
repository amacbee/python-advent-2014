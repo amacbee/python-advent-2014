{
 "metadata": {
  "name": "",
  "signature": "sha256:c8551b9685c7b8a7413607f29e7d91e8b5e0be03be5f3b34dccd69b1aa6b14ae"
 },
 "nbformat": 3,
 "nbformat_minor": 0,
 "worksheets": [
  {
   "cells": [
    {
     "cell_type": "code",
     "collapsed": false,
     "input": [
      "import ctypes\n",
      "\n",
      "class Error(Exception): \n",
      "    pass\n",
      "\n",
      "_libraryName = ctypes.util.find_library(\"hyphen\")\n",
      "if _libraryName is None:\n",
      "    # \u30b7\u30b9\u30c6\u30e0\u306b\u3088\u3063\u3066\u306f\uff0chyphen.uno\u3068\u3044\u3046\u540d\u524d\u3067\u4fdd\u5b58\u3055\u308c\u3066\u3044\u308b\u3053\u3068\u304c\u3042\u308a\u307e\u3059\n",
      "    _libraryName = ctype.util.find_library(\"hyphen.uno\")\n",
      "if _libraryName is None:\n",
      "    raise Error(\"cannot find hyphenation library\")\n",
      "\n",
      "_LibHyphen = ctypes.CDLL(_libraryName)"
     ],
     "language": "python",
     "metadata": {},
     "outputs": [],
     "prompt_number": 1
    },
    {
     "cell_type": "code",
     "collapsed": false,
     "input": [
      "# \u30cf\u30a4\u30d5\u30f3\u51e6\u7406\u7528\u306e\u8f9e\u66f8\u30d5\u30a1\u30a4\u30eb\u304b\u3089HyphenDict\u30dd\u30a4\u30f3\u30bf\u3092\u4f5c\u6210\u3059\u308b\n",
      "# hyphen.h: HyphenDict *hnj_hyphen_load(const char *filename)\n",
      "_load = _LibHyphen.hnj_hyphen_load\n",
      "_load.argtypes = [ctypes.c_char_p]\n",
      "_load.restype = ctypes.c_void_p"
     ],
     "language": "python",
     "metadata": {},
     "outputs": [],
     "prompt_number": 2
    },
    {
     "cell_type": "code",
     "collapsed": false,
     "input": [
      "# \u30e1\u30e2\u30ea\u89e3\u653e\u7528\n",
      "# hyphen.h: void hnj_hyphen_free(HyphenDict *hdict)\n",
      "_unload = _LibHyphen.hnj_hyphen_free\n",
      "_unload.argtypes = [ctypes.c_void_p]\n",
      "_unload.restype = None"
     ],
     "language": "python",
     "metadata": {},
     "outputs": [],
     "prompt_number": 3
    },
    {
     "cell_type": "code",
     "collapsed": false,
     "input": [
      "# HyphenDict\u30dd\u30a4\u30f3\u30bf\u306b\u5f93\u3063\u3066word\u3092\u30cf\u30a4\u30d5\u30f3\u51e6\u7406\u3059\u308b\n",
      "# hyphen.h: int hnj_hyphen_hyphenate2(HyphenDict *hdict, const char *word, int word_size, char *hyphens, char *hyphenated_word, char ***rep, int **pos, int **cut)\n",
      "\n",
      "_int_p = ctypes.POINTER(ctypes.c_int)\n",
      "_char_p_p = ctypes.POINTER(ctypes.c_char_p)\n",
      "\n",
      "_hyphenate = _LibHyphen.hnj_hyphen_hyphenate2\n",
      "_hyphenate.argtypes = [\n",
      "    ctypes.c_void_p,                # HyphenDict *hdict\n",
      "    ctypes.c_char_p,                # const char *word\n",
      "    ctypes.c_int,                       # int word_size\n",
      "    ctypes.c_char_p,                # char *hyphens\n",
      "    ctypes.c_char_p,                # char *hyphenaated_word\n",
      "    _char_p_p,                          # char ***rep\n",
      "    _int_p,                                  # int **pos\n",
      "    _int_p                                   # int **cut\n",
      "]\n",
      "_hyphenate.restype = ctypes.c_int"
     ],
     "language": "python",
     "metadata": {},
     "outputs": [],
     "prompt_number": 4
    },
    {
     "cell_type": "code",
     "collapsed": false,
     "input": [
      "def hyphenate(word, filename, hyphen='-'):\n",
      "    originalWord = word\n",
      "    \n",
      "    hdict = _get_hdict(filename)\n",
      "    word = word.encode(\"utf-8\")\n",
      "    word_size = ctypes.c_int(len(word))\n",
      "    hyphens = ctypes.create_string_buffer(word)\n",
      "    hyphenated_word = ctypes.create_string_buffer(len(word) * 2)\n",
      "    rep = _char_p_p(ctypes.c_char_p(None))\n",
      "    pos = _int_p(ctypes.c_int(0))\n",
      "    cut = _int_p(ctypes.c_int(0))\n",
      "\n",
      "    if _hyphenate(hdict, word, word_size, hyphens, hyphenated_word, rep, pos, cut):\n",
      "        raise Error(\"hyphenation failded for '{}'\".format(originalWord))\n",
      "\n",
      "    return hyphenated_word.value.decode(\"utf-8\").replace(\"=\", hyphen)"
     ],
     "language": "python",
     "metadata": {},
     "outputs": [],
     "prompt_number": 5
    },
    {
     "cell_type": "code",
     "collapsed": false,
     "input": [
      "_hdictForFilename = {}\n",
      "\n",
      "def _get_hdict(filename):\n",
      "    if filename not in _hdictForFilename:\n",
      "        hdict = _load(ctypes.create_string_buffer(filename.encode(\"utf-8\")))\n",
      "        if hdict is None:\n",
      "            raise Error(\"failed to load '{}'\".format(filename))\n",
      "        _hdictForFilename[filename] = hdict\n",
      "    hdict = _hdictForFilename.get(filename)\n",
      "    if hdict is None:\n",
      "        raise Error(\"failed to load '{}'\".format(filename))\n",
      "    return hdict"
     ],
     "language": "python",
     "metadata": {},
     "outputs": [],
     "prompt_number": 6
    },
    {
     "cell_type": "code",
     "collapsed": false,
     "input": [
      "path = './hyphen-2.8.8/hyphen.tex'\n",
      "hyphenate('extraordinary', path)"
     ],
     "language": "python",
     "metadata": {},
     "outputs": [
      {
       "metadata": {},
       "output_type": "pyout",
       "prompt_number": 7,
       "text": [
        "u'ex-traor-dinary'"
       ]
      }
     ],
     "prompt_number": 7
    },
    {
     "cell_type": "code",
     "collapsed": false,
     "input": [],
     "language": "python",
     "metadata": {},
     "outputs": []
    }
   ],
   "metadata": {}
  }
 ]
}